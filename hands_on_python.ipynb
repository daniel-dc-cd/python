{
 "cells": [
  {
   "cell_type": "markdown",
   "metadata": {},
   "source": [
    "# Hands-on Python"
   ]
  },
  {
   "cell_type": "code",
   "execution_count": 1,
   "metadata": {},
   "outputs": [
    {
     "name": "stdout",
     "output_type": "stream",
     "text": [
      "this is a sample string\n"
     ]
    }
   ],
   "source": [
    "print(\"this is a sample string\")"
   ]
  },
  {
   "cell_type": "code",
   "execution_count": 3,
   "metadata": {},
   "outputs": [
    {
     "name": "stdout",
     "output_type": "stream",
     "text": [
      "My name is Abdullah\n"
     ]
    }
   ],
   "source": [
    "name = \"Abdullah\"\n",
    "print(\"My name is\", name)"
   ]
  },
  {
   "cell_type": "code",
   "execution_count": 5,
   "metadata": {},
   "outputs": [
    {
     "name": "stdout",
     "output_type": "stream",
     "text": [
      "My name is Abdullah\n"
     ]
    }
   ],
   "source": [
    "name = \"Abdullah\"\n",
    "print(\"My name is \" + name)"
   ]
  },
  {
   "cell_type": "code",
   "execution_count": 6,
   "metadata": {},
   "outputs": [
    {
     "name": "stdout",
     "output_type": "stream",
     "text": [
      "My name is Abdullah Almokainzi and I am 29 years old.\n"
     ]
    }
   ],
   "source": [
    "first_name = \"Abdullah\"\n",
    "last_name = \"Almokainzi\"\n",
    "age = 29\n",
    "print(f\"My name is {first_name} {last_name} and I am {age} years old.\")"
   ]
  },
  {
   "cell_type": "code",
   "execution_count": 8,
   "metadata": {},
   "outputs": [
    {
     "name": "stdout",
     "output_type": "stream",
     "text": [
      "My name is Abdullah Almokainzi and I am 29 years old.\n"
     ]
    }
   ],
   "source": [
    "first_name = \"Abdullah\"\n",
    "last_name = \"Almokainzi\"\n",
    "age = 29\n",
    "print(\"My name is {} {} and I am {} years old.\" .format(first_name, last_name, age))"
   ]
  },
  {
   "cell_type": "code",
   "execution_count": 12,
   "metadata": {},
   "outputs": [
    {
     "name": "stdout",
     "output_type": "stream",
     "text": [
      "Hello World I love Python 3\n"
     ]
    }
   ],
   "source": [
    "hw = \"Hello %s\" % \"World\"\n",
    "py = \"I love Python %d\" % 3\n",
    "print(hw, py)"
   ]
  },
  {
   "cell_type": "code",
   "execution_count": 13,
   "metadata": {},
   "outputs": [
    {
     "name": "stdout",
     "output_type": "stream",
     "text": [
      "My name is Abdullah and I am 29\n"
     ]
    }
   ],
   "source": [
    "name = \"Abdullah\"\n",
    "age = 29\n",
    "print(\"My name is %s and I am %d\" % (name, age))"
   ]
  },
  {
   "cell_type": "code",
   "execution_count": 14,
   "metadata": {},
   "outputs": [
    {
     "name": "stdout",
     "output_type": "stream",
     "text": [
      "Hello World\n"
     ]
    }
   ],
   "source": [
    "x = \"hello world\"\n",
    "print(x.title())"
   ]
  },
  {
   "cell_type": "code",
   "execution_count": 17,
   "metadata": {},
   "outputs": [
    {
     "name": "stdout",
     "output_type": "stream",
     "text": [
      "Hello World\n",
      "Hello Noelle\n",
      "Hello Noelle\n",
      "Hello 42\n",
      "I love to eat sushi and pizza.\n",
      "I love to eat sushi and pizza.\n"
     ]
    }
   ],
   "source": [
    "# 1. TASK: print \"Hello World\"\n",
    "print(\"Hello World\")\n",
    "# 2. print \"Hello Noelle!\" with the name in a variable\n",
    "name = \"Noelle\"\n",
    "print(\"Hello\", name)\t# with a comma\n",
    "print(\"Hello \" + name)\t# with a +\n",
    "# 3. print \"Hello 42!\" with the number in a variable\n",
    "name = 42\n",
    "print(\"Hello\", name)\t# with a comma\n",
    "print(\"Hello \" + name)\t# with a +\t-- this one should give us an error!\n",
    "# 4. print \"I love to eat sushi and pizza.\" with the foods in variables\n",
    "fave_food1 = \"sushi\"\n",
    "fave_food2 = \"pizza\"\n",
    "print(\"I love to eat {} and {}.\" .format(fave_food1, fave_food2)) # with .format()\n",
    "print(f\"I love to eat {fave_food1} and {fave_food2}.\") # with an f string"
   ]
  },
  {
   "cell_type": "code",
   "execution_count": null,
   "metadata": {},
   "outputs": [],
   "source": []
  }
 ],
 "metadata": {
  "kernelspec": {
   "display_name": "Python 3",
   "language": "python",
   "name": "python3"
  },
  "language_info": {
   "codemirror_mode": {
    "name": "ipython",
    "version": 3
   },
   "file_extension": ".py",
   "mimetype": "text/x-python",
   "name": "python",
   "nbconvert_exporter": "python",
   "pygments_lexer": "ipython3",
   "version": "3.8.2"
  }
 },
 "nbformat": 4,
 "nbformat_minor": 4
}
