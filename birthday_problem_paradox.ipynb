{
 "cells": [
  {
   "cell_type": "markdown",
   "metadata": {},
   "source": [
    "## The birthday problem/Paradox"
   ]
  },
  {
   "cell_type": "markdown",
   "metadata": {},
   "source": [
    "**There is a famous problem in statistics that concerns a room full of people: Same Birthday!**\n",
    "\n",
    "An instructor offers a prize of $20.00 to anyone who thinks that two people in the room have the same birthday.\n",
    "Your assignment is to build a Monte Carlo simulation to tell the instructor how many people need to be in the room to give him/her a better than 50% chance of winning the $20. \n",
    "\n",
    "That is to say how many people need to be in a room in order for the probability of two of them having the same birthday is greater than 50%. Do the same for 95% and 99%.\n",
    "\n",
    "The follwing are attempts to approach the solution. The last function, however, represents the solution."
   ]
  },
  {
   "cell_type": "markdown",
   "metadata": {},
   "source": [
    "---"
   ]
  },
  {
   "cell_type": "markdown",
   "metadata": {},
   "source": [
    "### Classical Way"
   ]
  },
  {
   "cell_type": "markdown",
   "metadata": {},
   "source": [
    "https://www.youtube.com/watch?v=WF2AWMaR6nk"
   ]
  },
  {
   "cell_type": "markdown",
   "metadata": {},
   "source": [
    "It is easier to find the probability of no matches first, then compute the probability of matches (1 - P<sub>(no match)</sub>)"
   ]
  },
  {
   "cell_type": "code",
   "execution_count": 1,
   "metadata": {},
   "outputs": [],
   "source": [
    "def birthday_noclash(people):                  # people: number of people in the room\n",
    "    '''Return the probability of no clash in a group of birthdays, assuming even probability of birthdays and no leap-year'''\n",
    "    probability = 1                            # probability: initialize probability value as 1 (100%)\n",
    "    for i in range(people):\n",
    "        probability = probability * ((365 - i) / 365)\n",
    "    return 100 * probability                   # probability multiplied by 100 to return the percentage (%) of no clash"
   ]
  },
  {
   "cell_type": "code",
   "execution_count": 2,
   "metadata": {},
   "outputs": [
    {
     "data": {
      "text/plain": [
       "99.72602739726028"
      ]
     },
     "execution_count": 2,
     "metadata": {},
     "output_type": "execute_result"
    }
   ],
   "source": [
    "birthday_noclash(2)"
   ]
  },
  {
   "cell_type": "code",
   "execution_count": 3,
   "metadata": {},
   "outputs": [
    {
     "data": {
      "text/plain": [
       "83.29752111619355"
      ]
     },
     "execution_count": 3,
     "metadata": {},
     "output_type": "execute_result"
    }
   ],
   "source": [
    "birthday_noclash(12)"
   ]
  },
  {
   "cell_type": "code",
   "execution_count": 4,
   "metadata": {},
   "outputs": [
    {
     "name": "stdout",
     "output_type": "stream",
     "text": [
      "0 100\n",
      "1 100.0\n",
      "2 99.72602739726028\n",
      "3 99.17958341152186\n",
      "4 98.36440875334497\n",
      "5 97.28644263002066\n",
      "6 95.95375163508886\n",
      "7 94.37642969040246\n",
      "8 92.5664707648331\n",
      "9 90.53761661108332\n",
      "10 88.30518222889224\n",
      "11 85.88586216782669\n"
     ]
    }
   ],
   "source": [
    "for n in range(12):\n",
    "    print(n, birthday_noclash(n))"
   ]
  },
  {
   "cell_type": "code",
   "execution_count": 5,
   "metadata": {},
   "outputs": [],
   "source": [
    "def birthday_match(people):                         # people: number of people in the room\n",
    "    '''Return the probability of having a match in a group of birthdays, assuming even probability of birthdays and no leap-year'''\n",
    "\n",
    "    # Start by finding the probability of no match in a group of birthdays.\n",
    "    # Upon returning, subtract the probability of no match from one (i.e. 100%) to return the probability of a matching birthdays\n",
    "\n",
    "    probability = 1                                 # probability: initialize probability value as 1 (i.e. 100%)\n",
    "    for i in range(people):\n",
    "        probability = probability * ((365 - i) / 365)\n",
    "    return round(100 * (1 - probability), 2)        # subtracted the probability from one (i.e. 100%) to return the probability of a match,\n",
    "                                                    # multiplied by 100 to return the percentage (%),\n",
    "                                                    # and rounded to two decimals"
   ]
  },
  {
   "cell_type": "code",
   "execution_count": 6,
   "metadata": {},
   "outputs": [
    {
     "data": {
      "text/plain": [
       "0.27"
      ]
     },
     "execution_count": 6,
     "metadata": {},
     "output_type": "execute_result"
    }
   ],
   "source": [
    "birthday_match(2)"
   ]
  },
  {
   "cell_type": "code",
   "execution_count": 7,
   "metadata": {},
   "outputs": [
    {
     "data": {
      "text/plain": [
       "16.7"
      ]
     },
     "execution_count": 7,
     "metadata": {},
     "output_type": "execute_result"
    }
   ],
   "source": [
    "birthday_match(12)"
   ]
  },
  {
   "cell_type": "code",
   "execution_count": 8,
   "metadata": {},
   "outputs": [
    {
     "name": "stdout",
     "output_type": "stream",
     "text": [
      "People in room: 23 \tBirthday match:  50.73 %\n",
      "People in room: 47 \tBirthday match:  95.48 %\n",
      "People in room: 57 \tBirthday match:  99.01 %\n"
     ]
    }
   ],
   "source": [
    "for n in range(1,61):\n",
    "    match = birthday_match(n)\n",
    "    if match >= 50 and match < 51 or match >= 95 and match < 96 or match >= 99 and match < 99.1:\n",
    "        print(\"People in room:\", n, \"\\tBirthday match: \", match, \"%\")"
   ]
  },
  {
   "cell_type": "markdown",
   "metadata": {},
   "source": [
    "---"
   ]
  },
  {
   "cell_type": "markdown",
   "metadata": {},
   "source": [
    "### Monte Carlo Simulation"
   ]
  },
  {
   "cell_type": "markdown",
   "metadata": {},
   "source": [
    "Input:\n",
    "- Number of people in a room\n",
    "\n",
    "Output:\n",
    "- Probability of two of them having the same birthday"
   ]
  },
  {
   "cell_type": "code",
   "execution_count": 9,
   "metadata": {},
   "outputs": [],
   "source": [
    "import numpy as np\n",
    "\n",
    "def simulate_birthday_matches(people = 23):                 # people: people in the room\n",
    "    \n",
    "    result = np.array([])                                   # create empty array to hold simulation results\n",
    "    \n",
    "    for i in range(10000):\n",
    "        \n",
    "        birthdays = np.random.randint(0,365, people)\n",
    "                \n",
    "        if len(np.unique(birthdays)) != len(birthdays):     # if there is a match of at least one birthday\n",
    "            result = np.append(result, 1)\n",
    "        else:                                               # if there are no matches\n",
    "            result = np.append(result, 0)\n",
    "    \n",
    "    matches_avg = round(np.mean(result) * 100)\n",
    "    print(people, \"people \\t Probability of matched birthdays:\", str(matches_avg) + \"%\")"
   ]
  },
  {
   "cell_type": "code",
   "execution_count": 10,
   "metadata": {},
   "outputs": [
    {
     "name": "stdout",
     "output_type": "stream",
     "text": [
      "30 people \t Probability of matched birthdays: 71%\n"
     ]
    }
   ],
   "source": [
    "simulate_birthday_matches(30)"
   ]
  },
  {
   "cell_type": "code",
   "execution_count": 11,
   "metadata": {},
   "outputs": [
    {
     "name": "stdout",
     "output_type": "stream",
     "text": [
      "23 people \t Probability of matched birthdays: 50%\n"
     ]
    }
   ],
   "source": [
    "simulate_birthday_matches(23)"
   ]
  },
  {
   "cell_type": "markdown",
   "metadata": {},
   "source": [
    "---"
   ]
  },
  {
   "cell_type": "markdown",
   "metadata": {},
   "source": [
    "Input:\n",
    "- Probability of two people having the same birthday\n",
    "\n",
    "Output:\n",
    "- Number of people needed to be in a room"
   ]
  },
  {
   "cell_type": "code",
   "execution_count": 12,
   "metadata": {},
   "outputs": [],
   "source": [
    "import numpy as np\n",
    "\n",
    "def simulate_birthday_matches(propability = 50):                # propability: propability of having a birthday match\n",
    "    for people in range(365):\n",
    "\n",
    "        result = np.array([])                                   # create empty array to hold simulation results\n",
    "        matches_avg = 0.01                                      # initialize matches average\n",
    "        \n",
    "        for i in range(10000):                                  # number of iterations to get closer to true propability\n",
    "            \n",
    "            birthdays = np.random.randint(0,365, people)        # assign random birthdays to people in a room\n",
    "\n",
    "            if len(np.unique(birthdays)) != len(birthdays):     # if there are matching birthdays\n",
    "                result = np.append(result, 1)\n",
    "            else:                                               # if there are no matching birthdays\n",
    "                result = np.append(result, 0)\n",
    "\n",
    "        matches_avg = round(np.mean(result) * 100)\n",
    "        \n",
    "        if matches_avg >= propability:\n",
    "            break\n",
    "\n",
    "    print(\"People needed to be in a room: \\t\\t\\t\\t\", people)\n",
    "    print(\"Probability of two of them having the same birthday: \\t\", str(matches_avg) + \"%\")"
   ]
  },
  {
   "cell_type": "code",
   "execution_count": 13,
   "metadata": {},
   "outputs": [
    {
     "name": "stdout",
     "output_type": "stream",
     "text": [
      "People needed to be in a room: \t\t\t\t 23\n",
      "Probability of two of them having the same birthday: \t 51%\n"
     ]
    }
   ],
   "source": [
    "simulate_birthday_matches(50)"
   ]
  },
  {
   "cell_type": "code",
   "execution_count": 14,
   "metadata": {},
   "outputs": [
    {
     "name": "stdout",
     "output_type": "stream",
     "text": [
      "People needed to be in a room: \t\t\t\t 46\n",
      "Probability of two of them having the same birthday: \t 95%\n"
     ]
    }
   ],
   "source": [
    "simulate_birthday_matches(95)"
   ]
  },
  {
   "cell_type": "code",
   "execution_count": 15,
   "metadata": {},
   "outputs": [
    {
     "name": "stdout",
     "output_type": "stream",
     "text": [
      "People needed to be in a room: \t\t\t\t 55\n",
      "Probability of two of them having the same birthday: \t 99%\n"
     ]
    }
   ],
   "source": [
    "simulate_birthday_matches(99)"
   ]
  }
 ],
 "metadata": {
  "kernelspec": {
   "display_name": "Python 3",
   "language": "python",
   "name": "python3"
  },
  "language_info": {
   "codemirror_mode": {
    "name": "ipython",
    "version": 3
   },
   "file_extension": ".py",
   "mimetype": "text/x-python",
   "name": "python",
   "nbconvert_exporter": "python",
   "pygments_lexer": "ipython3",
   "version": "3.8.2"
  }
 },
 "nbformat": 4,
 "nbformat_minor": 4
}
